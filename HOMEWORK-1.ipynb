{
 "cells": [
  {
   "cell_type": "markdown",
   "metadata": {},
   "source": [
    "\"HOMEWORK PYTHON 3\"\n",
    "\n",
    "EXERCISE 1 \"a good first program\"\n",
    "In this example say about, how to install the program and the process that you need to follow and works in this app (python) also some exmple about some windows in python that you need to work."
   ]
  },
  {
   "cell_type": "code",
   "execution_count": 1,
   "metadata": {},
   "outputs": [
    {
     "name": "stdout",
     "output_type": "stream",
     "text": [
      "Hello everyone\n",
      "How are you?\n",
      "Ok let`s see\n"
     ]
    }
   ],
   "source": [
    "print(\"Hello everyone\")\n",
    "print(\"How are you?\")\n",
    "print(\"Ok let`s see\")"
   ]
  },
  {
   "cell_type": "markdown",
   "metadata": {},
   "source": [
    "EXERCISE 2 \"comments and pound characters\"\n",
    "Say about the disabled parts that you need learn, you can use comment and doto ignore. We need to write the code that you like or that you see."
   ]
  },
  {
   "cell_type": "code",
   "execution_count": 2,
   "metadata": {},
   "outputs": [
    {
     "name": "stdout",
     "output_type": "stream",
     "text": [
      "What's up guys?\n"
     ]
    }
   ],
   "source": [
    "#USE A  COMMENT TO \"DISAPPEAR\" OR COMMENT OUT CODE:\n",
    "print(\"What's up guys?\")"
   ]
  },
  {
   "cell_type": "markdown",
   "metadata": {},
   "source": [
    "EXERCISE 3 \"numbers and math\"\n",
    "This exercise says that we can do the same exercises added some math symbols to do operations and complete some tables or problems with these characters."
   ]
  },
  {
   "cell_type": "code",
   "execution_count": 3,
   "metadata": {},
   "outputs": [
    {
     "name": "stdout",
     "output_type": "stream",
     "text": [
      "2\n"
     ]
    }
   ],
   "source": [
    "print(45+11-2*27)"
   ]
  },
  {
   "cell_type": "markdown",
   "metadata": {},
   "source": [
    "EXERCISE 4 \"variables and names\"\n",
    "Now you can print and learn about variables, how to make the problems with variables and use some math symbols to do some characters."
   ]
  },
  {
   "cell_type": "code",
   "execution_count": 5,
   "metadata": {},
   "outputs": [
    {
     "name": "stdout",
     "output_type": "stream",
     "text": [
      "There are 75 apples available.\n"
     ]
    }
   ],
   "source": [
    "apples = 75\n",
    "print(\"There are\", apples, \"apples available.\")"
   ]
  },
  {
   "cell_type": "markdown",
   "metadata": {},
   "source": [
    "EXERCISE 5 \"more variables and printing\"\n",
    "This exercise explains to make a format string and put double-quotes around the piece of text learning some exercise you will do strings that could contain variables."
   ]
  },
  {
   "cell_type": "code",
   "execution_count": 1,
   "metadata": {},
   "outputs": [
    {
     "name": "stdout",
     "output_type": "stream",
     "text": [
      "let`s talk about alejandra martinez.\n",
      "she`s 27.\n",
      "let`s talk about martha.\n"
     ]
    }
   ],
   "source": [
    "my_nickname = \"alejandra martinez\"\n",
    "my_age = \"27\"\n",
    "my_name = \"martha\"\n",
    "print(f\"let`s talk about {my_nickname}.\")\n",
    "print(f\"she`s {my_age}.\")\n",
    "print(f\"let`s talk about {my_name}.\")"
   ]
  },
  {
   "cell_type": "markdown",
   "metadata": {},
   "source": [
    "EXERCISE 6 \"strings and text\"\n",
    "You have been writing strings that they do, we will create a bunch of variables and explain these strings, this contains some numbers of variables that are called f-string."
   ]
  },
  {
   "cell_type": "code",
   "execution_count": 8,
   "metadata": {},
   "outputs": [
    {
     "name": "stdout",
     "output_type": "stream",
     "text": [
      " we have 9 types of apples.\n"
     ]
    }
   ],
   "source": [
    "types_of_apples = 9\n",
    "x = f\" we have {types_of_apples} types of apples.\"\n",
    "print(x)"
   ]
  },
  {
   "cell_type": "markdown",
   "metadata": {},
   "source": [
    "EXERCISE 7 \"more printing\"\n",
    "In this exercise, we are to learn, how to do a branch with exercises with a type code to make to run."
   ]
  },
  {
   "cell_type": "code",
   "execution_count": 9,
   "metadata": {},
   "outputs": [
    {
     "name": "stdout",
     "output_type": "stream",
     "text": [
      "gordito need 7 apples\n",
      "gordito buy green apples\n"
     ]
    }
   ],
   "source": [
    "print(\"gordito need 7 apples\")\n",
    "print(\"gordito buy green apples\")"
   ]
  },
  {
   "cell_type": "markdown",
   "metadata": {},
   "source": [
    "EXERCISE 8 \"printing, printing\"\n",
    "Exercise say that we used some functions that we use into the strings and writing format in python."
   ]
  },
  {
   "cell_type": "code",
   "execution_count": 10,
   "metadata": {},
   "outputs": [
    {
     "name": "stdout",
     "output_type": "stream",
     "text": [
      " blue black green \n"
     ]
    }
   ],
   "source": [
    "formatter = \" {} {} {} \"\n",
    "print (formatter . format (\"blue\", \"black\", \"green\"))"
   ]
  },
  {
   "cell_type": "markdown",
   "metadata": {},
   "source": [
    "EXERCISE 9 \"printing, printing, printing\"\n",
    "In this exercise you learn about some things that you do not understand, more exercises explian concepts to learn to do, if you learn."
   ]
  },
  {
   "cell_type": "code",
   "execution_count": 11,
   "metadata": {},
   "outputs": [
    {
     "name": "stdout",
     "output_type": "stream",
     "text": [
      "here are apples: greenapples, yellowapples\n"
     ]
    }
   ],
   "source": [
    "apples = \"greenapples, yellowapples\"\n",
    "print(\"here are apples:\", apples)"
   ]
  },
  {
   "cell_type": "markdown",
   "metadata": {},
   "source": [
    "EXERCISE 10 \"what was that?\"\n",
    "This exercise does emphasis the exercise with its characters and variables, has a different type of character into a string that you want to use you can solve the escape with a double-quote and finally resolve with triple-quotes and works with this."
   ]
  },
  {
   "cell_type": "code",
   "execution_count": 12,
   "metadata": {},
   "outputs": [
    {
     "name": "stdout",
     "output_type": "stream",
     "text": [
      "I`m green in.\n"
     ]
    }
   ],
   "source": [
    "green_apples = \"I`m green in.\"\n",
    "print(green_apples)"
   ]
  }
 ],
 "metadata": {
  "kernelspec": {
   "display_name": "Python 3",
   "language": "python",
   "name": "python3"
  },
  "language_info": {
   "codemirror_mode": {
    "name": "ipython",
    "version": 3
   },
   "file_extension": ".py",
   "mimetype": "text/x-python",
   "name": "python",
   "nbconvert_exporter": "python",
   "pygments_lexer": "ipython3",
   "version": "3.7.4"
  }
 },
 "nbformat": 4,
 "nbformat_minor": 2
}
